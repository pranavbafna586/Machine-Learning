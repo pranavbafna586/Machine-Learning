{
 "cells": [
  {
   "cell_type": "markdown",
   "metadata": {},
   "source": [
    " WEEK-1\n",
    " ML - It is field of study that gives ability to learn without explicitly programmed\n",
    " #Machine Learning algorithms:\n",
    " \n",
    "# Supervised Machine Learning (Labeled data)\n",
    "    x -> y , input output mapping , learns from given right answers\n",
    "1) Regression  \n",
    "     regression model which predict numbers\n",
    "     Predict a number infinitely many possible output\n",
    "         \n",
    "2) Classification\n",
    "     Predict category \n",
    "     small number of possible output\n",
    "     Eg: recognize cat or dog\n",
    "\n",
    "# Unsupervised Machine Learning (Unlabeled data)\n",
    "    Data comes from only x  but not output labels y\n",
    "    A type of machine learning that learns from data without human supervision.\n",
    "1) Clustering : \n",
    "     Eg:-Google News\n",
    "     Eg:-DNA Microarray\n",
    "     Groups unlabeled data into clusters based on Similarities or differences.\n",
    "2) Anomaly detection :\n",
    "     Finds unusual data points \n",
    "3) Dimentionality reduction\n",
    "     Compress data using fewer numbers\n"
   ]
  },
  {
   "cell_type": "markdown",
   "metadata": {},
   "source": [
    "# Regression model\n",
    "1) Linear Regression\n",
    "x = \"Input\" variable\n",
    "y = \"Output\" variable\n",
    "m = no of training samples\n",
    "(x,y) = single training sample\n",
    "\n",
    " Linear Regression with one variable : f(x) = wx +b "
   ]
  },
  {
   "cell_type": "markdown",
   "metadata": {},
   "source": [
    "# NOT WORING\n",
    "#  m is the number of training examples\n",
    "print(f\"x_train.shape: {x_train.shape}\")\n",
    "m = x_train.shape[0]\n",
    "print(f\"Number of training examples is: {m}\")\n",
    "# m is the number of training examples\n",
    "m = len(x_train)\n",
    "print(f\"Number of training examples is: {m}\")"
   ]
  },
  {
   "cell_type": "markdown",
   "metadata": {},
   "source": [
    "# NOT WORING\n",
    "# Plot the data points\n",
    "plt.scatter(x_train, y_train, marker='x', c='r')\n",
    "# Set the title\n",
    "plt.title(\"Housing Prices\")\n",
    "# Set the y-axis label\n",
    "plt.ylabel('Price (in 1000s of dollars)')\n",
    "# Set the x-axis label\n",
    "plt.xlabel('Size (1000 sqft)')\n",
    "plt.show()"
   ]
  },
  {
   "cell_type": "markdown",
   "metadata": {},
   "source": []
  }
 ],
 "metadata": {
  "kernelspec": {
   "display_name": "Python 3",
   "language": "python",
   "name": "python3"
  },
  "language_info": {
   "codemirror_mode": {
    "name": "ipython",
    "version": 3
   },
   "file_extension": ".py",
   "mimetype": "text/x-python",
   "name": "python",
   "nbconvert_exporter": "python",
   "pygments_lexer": "ipython3",
   "version": "3.12.4"
  }
 },
 "nbformat": 4,
 "nbformat_minor": 2
}
