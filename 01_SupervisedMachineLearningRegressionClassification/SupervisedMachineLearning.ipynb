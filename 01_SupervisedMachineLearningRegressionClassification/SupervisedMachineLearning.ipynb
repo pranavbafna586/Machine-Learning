{
 "cells": [
  {
   "cell_type": "markdown",
   "metadata": {},
   "source": [
    " #Machine Learning algorithms:\n",
    " \n",
    "# Supervised Machine Learning (Labeled data)\n",
    "    x -> y , input output mapping , learns from given right answers\n",
    "1) Regression \n",
    "     regression model which predict numbers\n",
    "     Predict a number infinitely many possible output\n",
    "         \n",
    "2) Classification\n",
    "     Predict category small number of possible output\n",
    "     Eg: recognize cat or dog\n",
    "\n",
    "# Unsupervised Machine Learning (Unlabeled data)\n",
    "    Data comes from only x  but not output labels y\n",
    "    A type of machine learning that learns from data without human supervision.\n",
    "1) Clustering :\n",
    "     Groups unlabeled data into clusters based on Similarities or differences.\n",
    "2) Anomaly detection :\n",
    "     Finds unusual data points \n",
    "3) Dimentionality reduction\n",
    "     Compress data using fewer numbers\n"
   ]
  },
  {
   "cell_type": "markdown",
   "metadata": {},
   "source": [
    "Regression mdoel"
   ]
  }
 ],
 "metadata": {
  "language_info": {
   "name": "python"
  }
 },
 "nbformat": 4,
 "nbformat_minor": 2
}
