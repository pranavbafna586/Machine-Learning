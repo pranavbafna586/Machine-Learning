{
 "cells": [
  {
   "cell_type": "markdown",
   "metadata": {},
   "source": [
    "Logistic Regression Model --> Binary classifcation problem\n",
    "\n",
    "\n",
    "Sonar data --> Data pre processing --> Train Test Split --> Logistic Regression Model(Supervised ML)"
   ]
  },
  {
   "cell_type": "code",
   "execution_count": null,
   "metadata": {},
   "outputs": [],
   "source": []
  }
 ],
 "metadata": {
  "language_info": {
   "name": "python"
  }
 },
 "nbformat": 4,
 "nbformat_minor": 2
}
