{
 "cells": [
  {
   "cell_type": "code",
   "execution_count": null,
   "metadata": {},
   "outputs": [],
   "source": [
    "# Supervised Machine Learning\n",
    "# supervised learning is the type of machine learning that is used most in many real-world applications\n",
    "\n",
    "\n",
    "\n",
    "# Supervised Machine Learning"
   ]
  }
 ],
 "metadata": {
  "language_info": {
   "name": "python"
  }
 },
 "nbformat": 4,
 "nbformat_minor": 2
}
